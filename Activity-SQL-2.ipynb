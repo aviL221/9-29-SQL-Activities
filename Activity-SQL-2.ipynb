{
 "cells": [
  {
   "cell_type": "code",
   "execution_count": 1,
   "metadata": {
    "slideshow": {
     "slide_type": "slide"
    }
   },
   "outputs": [],
   "source": [
    "%load_ext sql\n",
    "%sql sqlite://"
   ]
  },
  {
   "cell_type": "code",
   "execution_count": 2,
   "metadata": {
    "slideshow": {
     "slide_type": "fragment"
    }
   },
   "outputs": [
    {
     "name": "stdout",
     "output_type": "stream",
     "text": [
      " * sqlite://\n",
      "Done.\n",
      "Done.\n",
      "1 rows affected.\n",
      "1 rows affected.\n",
      "1 rows affected.\n",
      "1 rows affected.\n"
     ]
    },
    {
     "data": {
      "text/plain": [
       "[]"
      ]
     },
     "execution_count": 2,
     "metadata": {},
     "output_type": "execute_result"
    }
   ],
   "source": [
    "%%sql drop table if exists product;\n",
    "create table product(\n",
    "       pname        varchar primary key, -- name of the product\n",
    "       price        money,               -- price of the product\n",
    "       category     varchar,             -- category\n",
    "       manufacturer varchar NOT NULL     -- manufacturer\n",
    ");\n",
    "insert into product values('Gizmo', 19.99, 'Gadgets', 'GizmoWorks');\n",
    "insert into product values('PowerGizmo', 29.99, 'Gadgets', 'GizmoWorks');\n",
    "insert into product values('MultiTouch', 203.99, 'Household', 'Hitachi');\n",
    "insert into product values('SingleTouch', 149.99, 'Photography', 'Canon');"
   ]
  },
  {
   "cell_type": "markdown",
   "metadata": {
    "slideshow": {
     "slide_type": "slide"
    }
   },
   "source": [
    "Activity 2:\n",
    "-------------\n",
    "\n",
    "Single table queries"
   ]
  },
  {
   "cell_type": "markdown",
   "metadata": {
    "slideshow": {
     "slide_type": "slide"
    }
   },
   "source": [
    "Exercise #1\n",
    "-----------\n",
    "\n",
    "Try writing a query to get an output table of all the products with \"Touch\" in the name, showing just their name and price, and sorted alphabetically by manufacturer.  Also think about whether or not this query is \"proper\" SQL or not?"
   ]
  },
  {
   "cell_type": "markdown",
   "metadata": {
    "slideshow": {
     "slide_type": "fragment"
    }
   },
   "source": [
    "Let's look at the products first:"
   ]
  },
  {
   "cell_type": "code",
   "execution_count": 9,
   "metadata": {
    "slideshow": {
     "slide_type": "fragment"
    }
   },
   "outputs": [
    {
     "name": "stdout",
     "output_type": "stream",
     "text": [
      " * sqlite://\n",
      "Done.\n"
     ]
    },
    {
     "data": {
      "text/html": [
       "<table>\n",
       "    <tr>\n",
       "        <th>pname</th>\n",
       "        <th>price</th>\n",
       "        <th>category</th>\n",
       "        <th>manufacturer</th>\n",
       "    </tr>\n",
       "    <tr>\n",
       "        <td>Gizmo</td>\n",
       "        <td>19.99</td>\n",
       "        <td>Gadgets</td>\n",
       "        <td>GizmoWorks</td>\n",
       "    </tr>\n",
       "    <tr>\n",
       "        <td>PowerGizmo</td>\n",
       "        <td>29.99</td>\n",
       "        <td>Gadgets</td>\n",
       "        <td>GizmoWorks</td>\n",
       "    </tr>\n",
       "    <tr>\n",
       "        <td>MultiTouch</td>\n",
       "        <td>203.99</td>\n",
       "        <td>Household</td>\n",
       "        <td>Hitachi</td>\n",
       "    </tr>\n",
       "    <tr>\n",
       "        <td>SingleTouch</td>\n",
       "        <td>149.99</td>\n",
       "        <td>Photography</td>\n",
       "        <td>Canon</td>\n",
       "    </tr>\n",
       "</table>"
      ],
      "text/plain": [
       "[('Gizmo', 19.99, 'Gadgets', 'GizmoWorks'),\n",
       " ('PowerGizmo', 29.99, 'Gadgets', 'GizmoWorks'),\n",
       " ('MultiTouch', 203.99, 'Household', 'Hitachi'),\n",
       " ('SingleTouch', 149.99, 'Photography', 'Canon')]"
      ]
     },
     "execution_count": 9,
     "metadata": {},
     "output_type": "execute_result"
    }
   ],
   "source": [
    "%sql select * from product;"
   ]
  },
  {
   "cell_type": "markdown",
   "metadata": {
    "slideshow": {
     "slide_type": "slide"
    }
   },
   "source": [
    "Write your query here:"
   ]
  },
  {
   "cell_type": "code",
   "execution_count": 8,
   "metadata": {
    "slideshow": {
     "slide_type": "fragment"
    }
   },
   "outputs": [
    {
     "name": "stdout",
     "output_type": "stream",
     "text": [
      " * sqlite://\n",
      "Done.\n"
     ]
    },
    {
     "data": {
      "text/html": [
       "<table>\n",
       "    <tr>\n",
       "        <th>pname</th>\n",
       "        <th>price</th>\n",
       "        <th>category</th>\n",
       "        <th>manufacturer</th>\n",
       "    </tr>\n",
       "    <tr>\n",
       "        <td>MultiTouch</td>\n",
       "        <td>203.99</td>\n",
       "        <td>Household</td>\n",
       "        <td>Hitachi</td>\n",
       "    </tr>\n",
       "    <tr>\n",
       "        <td>SingleTouch</td>\n",
       "        <td>149.99</td>\n",
       "        <td>Photography</td>\n",
       "        <td>Canon</td>\n",
       "    </tr>\n",
       "</table>"
      ],
      "text/plain": [
       "[('MultiTouch', 203.99, 'Household', 'Hitachi'),\n",
       " ('SingleTouch', 149.99, 'Photography', 'Canon')]"
      ]
     },
     "execution_count": 8,
     "metadata": {},
     "output_type": "execute_result"
    }
   ],
   "source": [
    "%%sql\n",
    "SELECT *\n",
    "FROM product\n",
    "WHERE pname LIKE \"%Touch%\"\n"
   ]
  },
  {
   "cell_type": "markdown",
   "metadata": {
    "slideshow": {
     "slide_type": "slide"
    }
   },
   "source": [
    "Next, write a query that returns the _distinct_ names of manufacturers that make products with \"Gizmo\" in the name:"
   ]
  },
  {
   "cell_type": "code",
   "execution_count": 9,
   "metadata": {
    "slideshow": {
     "slide_type": "fragment"
    }
   },
   "outputs": [
    {
     "name": "stdout",
     "output_type": "stream",
     "text": [
      " * sqlite://\n",
      "Done.\n"
     ]
    },
    {
     "data": {
      "text/html": [
       "<table>\n",
       "    <tr>\n",
       "        <th>manufacturer</th>\n",
       "    </tr>\n",
       "    <tr>\n",
       "        <td>GizmoWorks</td>\n",
       "    </tr>\n",
       "</table>"
      ],
      "text/plain": [
       "[('GizmoWorks',)]"
      ]
     },
     "execution_count": 9,
     "metadata": {},
     "output_type": "execute_result"
    }
   ],
   "source": [
    "%%sql\n",
    "SELECT DISTINCT manufacturer\n",
    "FROM product\n",
    "WHERE manufacturer LIKE \"%Gizmo%\" "
   ]
  },
  {
   "cell_type": "markdown",
   "metadata": {
    "slideshow": {
     "slide_type": "slide"
    }
   },
   "source": [
    "Exercise #2:\n",
    "------------\n",
    "\n",
    "_More on ORDER BY_\n",
    "\n",
    "Try some of these queries but first guess what they return.  Which ones are \"proper\" SQL?"
   ]
  },
  {
   "cell_type": "code",
   "execution_count": 10,
   "metadata": {
    "slideshow": {
     "slide_type": "slide"
    }
   },
   "outputs": [
    {
     "name": "stdout",
     "output_type": "stream",
     "text": [
      " * sqlite://\n",
      "Done.\n"
     ]
    },
    {
     "data": {
      "text/html": [
       "<table>\n",
       "    <tr>\n",
       "        <th>category</th>\n",
       "    </tr>\n",
       "    <tr>\n",
       "        <td>Gadgets</td>\n",
       "    </tr>\n",
       "    <tr>\n",
       "        <td>Household</td>\n",
       "    </tr>\n",
       "    <tr>\n",
       "        <td>Photography</td>\n",
       "    </tr>\n",
       "</table>"
      ],
      "text/plain": [
       "[('Gadgets',), ('Household',), ('Photography',)]"
      ]
     },
     "execution_count": 10,
     "metadata": {},
     "output_type": "execute_result"
    }
   ],
   "source": [
    "%sql SELECT DISTINCT category FROM product ORDER BY category;"
   ]
  },
  {
   "cell_type": "code",
   "execution_count": 11,
   "metadata": {
    "slideshow": {
     "slide_type": "slide"
    }
   },
   "outputs": [
    {
     "name": "stdout",
     "output_type": "stream",
     "text": [
      " * sqlite://\n",
      "Done.\n"
     ]
    },
    {
     "data": {
      "text/html": [
       "<table>\n",
       "    <tr>\n",
       "        <th>category</th>\n",
       "    </tr>\n",
       "    <tr>\n",
       "        <td>Gadgets</td>\n",
       "    </tr>\n",
       "    <tr>\n",
       "        <td>Household</td>\n",
       "    </tr>\n",
       "    <tr>\n",
       "        <td>Gadgets</td>\n",
       "    </tr>\n",
       "    <tr>\n",
       "        <td>Photography</td>\n",
       "    </tr>\n",
       "</table>"
      ],
      "text/plain": [
       "[('Gadgets',), ('Household',), ('Gadgets',), ('Photography',)]"
      ]
     },
     "execution_count": 11,
     "metadata": {},
     "output_type": "execute_result"
    }
   ],
   "source": [
    "%sql SELECT category FROM product ORDER BY pname;"
   ]
  },
  {
   "cell_type": "code",
   "execution_count": 12,
   "metadata": {
    "slideshow": {
     "slide_type": "slide"
    }
   },
   "outputs": [
    {
     "name": "stdout",
     "output_type": "stream",
     "text": [
      " * sqlite://\n",
      "Done.\n"
     ]
    },
    {
     "data": {
      "text/html": [
       "<table>\n",
       "    <tr>\n",
       "        <th>category</th>\n",
       "    </tr>\n",
       "    <tr>\n",
       "        <td>Gadgets</td>\n",
       "    </tr>\n",
       "    <tr>\n",
       "        <td>Household</td>\n",
       "    </tr>\n",
       "    <tr>\n",
       "        <td>Photography</td>\n",
       "    </tr>\n",
       "</table>"
      ],
      "text/plain": [
       "[('Gadgets',), ('Household',), ('Photography',)]"
      ]
     },
     "execution_count": 12,
     "metadata": {},
     "output_type": "execute_result"
    }
   ],
   "source": [
    "%sql SELECT DISTINCT category FROM product ORDER BY pname;"
   ]
  },
  {
   "cell_type": "code",
   "execution_count": null,
   "metadata": {},
   "outputs": [],
   "source": []
  }
 ],
 "metadata": {
  "celltoolbar": "Slideshow",
  "kernelspec": {
   "display_name": "Python 3",
   "language": "python",
   "name": "python3"
  },
  "language_info": {
   "codemirror_mode": {
    "name": "ipython",
    "version": 3
   },
   "file_extension": ".py",
   "mimetype": "text/x-python",
   "name": "python",
   "nbconvert_exporter": "python",
   "pygments_lexer": "ipython3",
   "version": "3.8.5"
  }
 },
 "nbformat": 4,
 "nbformat_minor": 1
}
